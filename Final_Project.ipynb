{
  "nbformat": 4,
  "nbformat_minor": 0,
  "metadata": {
    "colab": {
      "provenance": [],
      "gpuType": "T4"
    },
    "kernelspec": {
      "name": "python3",
      "display_name": "Python 3"
    },
    "language_info": {
      "name": "python"
    },
    "accelerator": "GPU"
  },
  "cells": [
    {
      "cell_type": "markdown",
      "source": [
        "# Stress Type Classifier from Daily Journal Entries\n",
        "This notebook builds a high-performance model to classify stress types (School, Relationship, Health, Financial, Work) from journal entries using Logistic Regression, SVM, DistilBERT, and an ensemble approach."
      ],
      "metadata": {
        "id": "EF92mSsDMNMg"
      }
    },
    {
      "cell_type": "code",
      "execution_count": null,
      "metadata": {
        "id": "FWV6xwMDMHbT"
      },
      "outputs": [],
      "source": [
        "import pandas as pd\n",
        "import numpy as np\n",
        "import re\n",
        "import nltk\n",
        "from nltk.corpus import stopwords\n",
        "from sklearn.model_selection import train_test_split, StratifiedKFold, GridSearchCV\n",
        "from sklearn.feature_extraction.text import TfidfVectorizer\n",
        "from sklearn.linear_model import LogisticRegression\n",
        "from sklearn.svm import SVC\n",
        "from sklearn.ensemble import VotingClassifier\n",
        "from sklearn.metrics import classification_report, confusion_matrix\n",
        "from imblearn.over_sampling import SMOTE\n",
        "from transformers import DistilBertTokenizer, DistilBertForSequenceClassification, Trainer, TrainingArguments\n",
        "import torch"
      ]
    },
    {
      "cell_type": "code",
      "source": [
        "# Download NLTK stopwords\n",
        "nltk.download('stopwords')\n",
        "stop_words = set(stopwords.words('english'))"
      ],
      "metadata": {
        "colab": {
          "base_uri": "https://localhost:8080/"
        },
        "id": "xCzKPFgTR15d",
        "outputId": "3e9ff38c-33eb-4279-bee6-4607f56346ac"
      },
      "execution_count": null,
      "outputs": [
        {
          "output_type": "stream",
          "name": "stderr",
          "text": [
            "[nltk_data] Downloading package stopwords to /root/nltk_data...\n",
            "[nltk_data]   Package stopwords is already up-to-date!\n"
          ]
        }
      ]
    },
    {
      "cell_type": "code",
      "source": [
        "# Set random seed for reproducibility\n",
        "np.random.seed(42)\n",
        "torch.manual_seed(42)"
      ],
      "metadata": {
        "colab": {
          "base_uri": "https://localhost:8080/"
        },
        "id": "RSkv9wNER6ok",
        "outputId": "6a42fd7b-f246-4bb9-c957-a322fa73ee5b"
      },
      "execution_count": null,
      "outputs": [
        {
          "output_type": "execute_result",
          "data": {
            "text/plain": [
              "<torch._C.Generator at 0x7c716e37e0b0>"
            ]
          },
          "metadata": {},
          "execution_count": 46
        }
      ]
    },
    {
      "cell_type": "code",
      "source": [
        "# Load dataset (assuming it's uploaded to Colab)\n",
        "# For Colab, upload 'stress_journal_dataset.csv' manually or adjust path if using Google Drive\n",
        "data = pd.read_csv('/content/stress_journal_dataset.csv')\n",
        "\n",
        "# Create label mapping\n",
        "label_map = {stress: idx for idx, stress in enumerate(data['stress_type'].unique())}\n",
        "data['label'] = data['stress_type'].map(label_map)\n",
        "print('Label Mapping:', label_map)"
      ],
      "metadata": {
        "colab": {
          "base_uri": "https://localhost:8080/"
        },
        "id": "19mPAzWdMcP0",
        "outputId": "5229b448-3e08-4c3b-c092-23a5e381e73e"
      },
      "execution_count": null,
      "outputs": [
        {
          "output_type": "stream",
          "name": "stdout",
          "text": [
            "Label Mapping: {'School Stress': 0, 'Relationship Stress': 1, 'Health Stress': 2, 'Financial Stress': 3, 'Work Stress': 4}\n"
          ]
        }
      ]
    },
    {
      "cell_type": "code",
      "source": [
        "# Text preprocessing function\n",
        "def clean_text(text):\n",
        "    text = text.lower()\n",
        "    text = re.sub(r'[^\\w\\s]', '', text)\n",
        "    text = ' '.join(word for word in text.split() if word not in stop_words)\n",
        "    return text\n",
        "\n",
        "data['clean_text'] = data['journal_entry'].apply(clean_text)\n",
        "print(data['journal_entry'].head())"
      ],
      "metadata": {
        "colab": {
          "base_uri": "https://localhost:8080/"
        },
        "id": "B8pHnLXBSDRd",
        "outputId": "6a4ea57a-7966-4ec4-d1ff-9ce5912a44bf"
      },
      "execution_count": null,
      "outputs": [
        {
          "output_type": "stream",
          "name": "stdout",
          "text": [
            "0    Exams are piling up, and I can't keep up with ...\n",
            "1    My partner and I had another argument about ou...\n",
            "2    The doctor said my blood pressure is high agai...\n",
            "3    Bills are due, and my account is almost empty....\n",
            "4    I bombed my presentation today. I’m so behind ...\n",
            "Name: journal_entry, dtype: object\n"
          ]
        }
      ]
    },
    {
      "cell_type": "code",
      "source": [
        "print(data['clean_text'].head())"
      ],
      "metadata": {
        "colab": {
          "base_uri": "https://localhost:8080/"
        },
        "id": "WoPaMjNcSN7Q",
        "outputId": "a89a4830-63ec-4b8b-837e-b7348d4b3205"
      },
      "execution_count": null,
      "outputs": [
        {
          "output_type": "stream",
          "name": "stdout",
          "text": [
            "0    exams piling cant keep readings stayed 3 studying\n",
            "1    partner another argument future plans feel dra...\n",
            "2    doctor said blood pressure high im worried health\n",
            "3    bills due account almost empty dont know ill m...\n",
            "4    bombed presentation today im behind course ove...\n",
            "Name: clean_text, dtype: object\n"
          ]
        }
      ]
    },
    {
      "cell_type": "code",
      "source": [
        "print(data['stress_type'].head())"
      ],
      "metadata": {
        "colab": {
          "base_uri": "https://localhost:8080/"
        },
        "id": "jOnFM3VpSOKe",
        "outputId": "f7804a73-f691-495d-d89e-faf81c4ca0ba"
      },
      "execution_count": null,
      "outputs": [
        {
          "output_type": "stream",
          "name": "stdout",
          "text": [
            "0          School Stress\n",
            "1    Relationship Stress\n",
            "2          Health Stress\n",
            "3       Financial Stress\n",
            "4          School Stress\n",
            "Name: stress_type, dtype: object\n"
          ]
        }
      ]
    },
    {
      "cell_type": "code",
      "source": [
        "# Split data\n",
        "X = data['clean_text']\n",
        "y = data['label']\n",
        "X_train, X_test, y_train, y_test = train_test_split(X, y, test_size=0.2, random_state=42, stratify=y)\n",
        "\n",
        "# TF-IDF Vectorization\n",
        "tfidf = TfidfVectorizer(max_features=5000, ngram_range=(1, 2), min_df=2)\n",
        "X_train_tfidf = tfidf.fit_transform(X_train)\n",
        "X_test_tfidf = tfidf.transform(X_test)\n",
        "\n",
        "# Apply SMOTE to balance classes\n",
        "smote = SMOTE(random_state=42)\n",
        "X_train_tfidf_smote, y_train_smote = smote.fit_resample(X_train_tfidf, y_train)"
      ],
      "metadata": {
        "id": "wjReOI6hMiYi"
      },
      "execution_count": null,
      "outputs": []
    },
    {
      "cell_type": "code",
      "source": [
        "# Logistic Regression with Grid Search\n",
        "lr_params = {'C': [0.1, 1, 10, 100]}\n",
        "lr_grid = GridSearchCV(LogisticRegression(max_iter=1000), lr_params, cv=5, scoring='f1_macro')\n",
        "lr_grid.fit(X_train_tfidf_smote, y_train_smote)\n",
        "lr_model = lr_grid.best_estimator_\n",
        "print('Best Logistic Regression Params:', lr_grid.best_params_)"
      ],
      "metadata": {
        "colab": {
          "base_uri": "https://localhost:8080/"
        },
        "id": "V1cmL3TfMibM",
        "outputId": "bfcd1722-07b4-4c17-e4cf-26638b725686"
      },
      "execution_count": null,
      "outputs": [
        {
          "output_type": "stream",
          "name": "stdout",
          "text": [
            "Best Logistic Regression Params: {'C': 1}\n"
          ]
        }
      ]
    },
    {
      "cell_type": "code",
      "source": [
        "# SVM with Grid Search\n",
        "svm_params = {'C': [0.1, 1, 10], 'kernel': ['linear']}\n",
        "svm_grid = GridSearchCV(SVC(probability=True), svm_params, cv=5, scoring='f1_macro')\n",
        "svm_grid.fit(X_train_tfidf_smote, y_train_smote)\n",
        "svm_model = svm_grid.best_estimator_\n",
        "print('Best SVM Params:', svm_grid.best_params_)"
      ],
      "metadata": {
        "colab": {
          "base_uri": "https://localhost:8080/"
        },
        "id": "3_ExiYiiShHg",
        "outputId": "54288b73-8bec-45eb-988f-a80738f613d2"
      },
      "execution_count": null,
      "outputs": [
        {
          "output_type": "stream",
          "name": "stdout",
          "text": [
            "Best SVM Params: {'C': 1, 'kernel': 'linear'}\n"
          ]
        }
      ]
    },
    {
      "cell_type": "code",
      "source": [
        "# DistilBERT Fine-Tuning\n",
        "tokenizer = DistilBertTokenizer.from_pretrained('distilbert-base-uncased')\n",
        "\n",
        "class StressDataset(torch.utils.data.Dataset):\n",
        "    def __init__(self, texts, labels):\n",
        "        self.texts = texts\n",
        "        self.labels = labels\n",
        "\n",
        "    def __len__(self):\n",
        "        return len(self.texts)\n",
        "\n",
        "    def __getitem__(self, idx):\n",
        "        encoding = tokenizer(self.texts[idx], truncation=True, padding='max_length', max_length=128, return_tensors='pt')\n",
        "        item = {key: val.squeeze() for key, val in encoding.items()}\n",
        "        item['labels'] = torch.tensor(self.labels[idx], dtype=torch.long)\n",
        "        return item\n",
        "\n",
        "train_dataset = StressDataset(X_train.tolist(), y_train.tolist())\n",
        "test_dataset = StressDataset(X_test.tolist(), y_test.tolist())\n",
        "\n",
        "model = DistilBertForSequenceClassification.from_pretrained('distilbert-base-uncased', num_labels=5)\n",
        "training_args = TrainingArguments(\n",
        "    output_dir='./results',\n",
        "    num_train_epochs=3,\n",
        "    per_device_train_batch_size=8,\n",
        "    per_device_eval_batch_size=8,\n",
        "    warmup_steps=10,\n",
        "    weight_decay=0.01,\n",
        "    logging_dir='./logs',\n",
        "    logging_steps=10,\n",
        "    eval_strategy='epoch',\n",
        "    save_strategy='epoch',\n",
        "    load_best_model_at_end=True,\n",
        "    report_to='none'  # Disable W&B logging to avoid API key prompt\n",
        ")\n",
        "\n",
        "trainer = Trainer(\n",
        "    model=model,\n",
        "    args=training_args,\n",
        "    train_dataset=train_dataset,\n",
        "    eval_dataset=test_dataset\n",
        ")\n",
        "\n",
        "trainer.train()"
      ],
      "metadata": {
        "colab": {
          "base_uri": "https://localhost:8080/",
          "height": 259
        },
        "id": "gjlkdjn8Yvb6",
        "outputId": "a15929b0-4446-402c-e209-8658171ae134"
      },
      "execution_count": null,
      "outputs": [
        {
          "output_type": "stream",
          "name": "stderr",
          "text": [
            "Some weights of DistilBertForSequenceClassification were not initialized from the model checkpoint at distilbert-base-uncased and are newly initialized: ['classifier.bias', 'classifier.weight', 'pre_classifier.bias', 'pre_classifier.weight']\n",
            "You should probably TRAIN this model on a down-stream task to be able to use it for predictions and inference.\n"
          ]
        },
        {
          "output_type": "display_data",
          "data": {
            "text/plain": [
              "<IPython.core.display.HTML object>"
            ],
            "text/html": [
              "\n",
              "    <div>\n",
              "      \n",
              "      <progress value='30' max='30' style='width:300px; height:20px; vertical-align: middle;'></progress>\n",
              "      [30/30 00:20, Epoch 3/3]\n",
              "    </div>\n",
              "    <table border=\"1\" class=\"dataframe\">\n",
              "  <thead>\n",
              " <tr style=\"text-align: left;\">\n",
              "      <th>Epoch</th>\n",
              "      <th>Training Loss</th>\n",
              "      <th>Validation Loss</th>\n",
              "    </tr>\n",
              "  </thead>\n",
              "  <tbody>\n",
              "    <tr>\n",
              "      <td>1</td>\n",
              "      <td>1.596800</td>\n",
              "      <td>1.551168</td>\n",
              "    </tr>\n",
              "    <tr>\n",
              "      <td>2</td>\n",
              "      <td>1.414200</td>\n",
              "      <td>1.379124</td>\n",
              "    </tr>\n",
              "    <tr>\n",
              "      <td>3</td>\n",
              "      <td>1.150800</td>\n",
              "      <td>1.244509</td>\n",
              "    </tr>\n",
              "  </tbody>\n",
              "</table><p>"
            ]
          },
          "metadata": {}
        },
        {
          "output_type": "execute_result",
          "data": {
            "text/plain": [
              "TrainOutput(global_step=30, training_loss=1.387271563212077, metrics={'train_runtime': 20.2966, 'train_samples_per_second': 11.825, 'train_steps_per_second': 1.478, 'total_flos': 7948469145600.0, 'train_loss': 1.387271563212077, 'epoch': 3.0})"
            ]
          },
          "metadata": {},
          "execution_count": 106
        }
      ]
    },
    {
      "cell_type": "code",
      "source": [
        "# Ensemble Model\n",
        "ensemble_model = VotingClassifier(\n",
        "    estimators=[\n",
        "        ('lr', lr_model),\n",
        "        ('svm', svm_model),\n",
        "    ],\n",
        "    voting='soft'\n",
        ")\n",
        "ensemble_model.fit(X_train_tfidf_smote, y_train_smote)\n",
        "\n",
        "# Evaluate all models\n",
        "def evaluate_model(name, model, X_test_tfidf, y_test):\n",
        "    if name == 'DistilBERT':\n",
        "        predictions = trainer.predict(test_dataset).predictions.argmax(axis=1)\n",
        "    else:\n",
        "        predictions = model.predict(X_test_tfidf)\n",
        "    print(f'\\n{name} Results:')\n",
        "    print(classification_report(y_test, predictions, target_names=label_map.keys()))\n",
        "    print('Confusion Matrix:')\n",
        "    print(confusion_matrix(y_test, predictions))\n",
        "\n",
        "evaluate_model('Logistic Regression', lr_model, X_test_tfidf, y_test)\n",
        "evaluate_model('SVM', svm_model, X_test_tfidf, y_test)\n",
        "evaluate_model('DistilBERT', None, X_test_tfidf, y_test)\n",
        "evaluate_model('Ensemble', ensemble_model, X_test_tfidf, y_test)"
      ],
      "metadata": {
        "colab": {
          "base_uri": "https://localhost:8080/",
          "height": 1000
        },
        "id": "hMNBiLgPYvek",
        "outputId": "5ffabe80-7248-4ef4-e5d6-711c2f13de7b"
      },
      "execution_count": null,
      "outputs": [
        {
          "output_type": "stream",
          "name": "stdout",
          "text": [
            "\n",
            "Logistic Regression Results:\n",
            "                     precision    recall  f1-score   support\n",
            "\n",
            "      School Stress       1.00      0.75      0.86         4\n",
            "Relationship Stress       0.80      0.80      0.80         5\n",
            "      Health Stress       0.50      0.25      0.33         4\n",
            "   Financial Stress       0.50      1.00      0.67         4\n",
            "        Work Stress       1.00      0.67      0.80         3\n",
            "\n",
            "           accuracy                           0.70        20\n",
            "          macro avg       0.76      0.69      0.69        20\n",
            "       weighted avg       0.75      0.70      0.69        20\n",
            "\n",
            "Confusion Matrix:\n",
            "[[3 0 0 1 0]\n",
            " [0 4 1 0 0]\n",
            " [0 1 1 2 0]\n",
            " [0 0 0 4 0]\n",
            " [0 0 0 1 2]]\n",
            "\n",
            "SVM Results:\n",
            "                     precision    recall  f1-score   support\n",
            "\n",
            "      School Stress       0.60      0.75      0.67         4\n",
            "Relationship Stress       1.00      0.80      0.89         5\n",
            "      Health Stress       0.50      0.25      0.33         4\n",
            "   Financial Stress       0.57      1.00      0.73         4\n",
            "        Work Stress       1.00      0.67      0.80         3\n",
            "\n",
            "           accuracy                           0.70        20\n",
            "          macro avg       0.73      0.69      0.68        20\n",
            "       weighted avg       0.73      0.70      0.69        20\n",
            "\n",
            "Confusion Matrix:\n",
            "[[3 0 0 1 0]\n",
            " [0 4 1 0 0]\n",
            " [2 0 1 1 0]\n",
            " [0 0 0 4 0]\n",
            " [0 0 0 1 2]]\n"
          ]
        },
        {
          "output_type": "display_data",
          "data": {
            "text/plain": [
              "<IPython.core.display.HTML object>"
            ],
            "text/html": []
          },
          "metadata": {}
        },
        {
          "output_type": "stream",
          "name": "stdout",
          "text": [
            "\n",
            "DistilBERT Results:\n",
            "                     precision    recall  f1-score   support\n",
            "\n",
            "      School Stress       0.67      1.00      0.80         4\n",
            "Relationship Stress       1.00      0.60      0.75         5\n",
            "      Health Stress       1.00      0.75      0.86         4\n",
            "   Financial Stress       0.57      1.00      0.73         4\n",
            "        Work Stress       1.00      0.33      0.50         3\n",
            "\n",
            "           accuracy                           0.75        20\n",
            "          macro avg       0.85      0.74      0.73        20\n",
            "       weighted avg       0.85      0.75      0.74        20\n",
            "\n",
            "Confusion Matrix:\n",
            "[[4 0 0 0 0]\n",
            " [1 3 0 1 0]\n",
            " [0 0 3 1 0]\n",
            " [0 0 0 4 0]\n",
            " [1 0 0 1 1]]\n",
            "\n",
            "Ensemble Results:\n",
            "                     precision    recall  f1-score   support\n",
            "\n",
            "      School Stress       1.00      0.75      0.86         4\n",
            "Relationship Stress       0.75      0.60      0.67         5\n",
            "      Health Stress       0.50      0.25      0.33         4\n",
            "   Financial Stress       0.50      1.00      0.67         4\n",
            "        Work Stress       0.67      0.67      0.67         3\n",
            "\n",
            "           accuracy                           0.65        20\n",
            "          macro avg       0.68      0.65      0.64        20\n",
            "       weighted avg       0.69      0.65      0.64        20\n",
            "\n",
            "Confusion Matrix:\n",
            "[[3 0 0 1 0]\n",
            " [0 3 1 0 1]\n",
            " [0 1 1 2 0]\n",
            " [0 0 0 4 0]\n",
            " [0 0 0 1 2]]\n"
          ]
        }
      ]
    },
    {
      "cell_type": "code",
      "source": [
        "# Predict sample text\n",
        "sample_text = \"I’m freaking out about my exams next week.\"\n",
        "cleaned_sample = clean_text(sample_text)\n",
        "sample_tfidf = tfidf.transform([cleaned_sample])\n",
        "\n",
        "# Ensemble prediction\n",
        "ensemble_pred = ensemble_model.predict(sample_tfidf)[0]\n",
        "ensemble_stress = [k for k, v in label_map.items() if v == ensemble_pred][0]\n",
        "\n",
        "# DistilBERT prediction\n",
        "sample_encoding = tokenizer(sample_text, truncation=True, padding='max_length', max_length=128, return_tensors='pt')\n",
        "with torch.no_grad():\n",
        "    outputs = model(**{k: v.to(model.device) for k, v in sample_encoding.items()})\n",
        "    distilbert_pred = outputs.logits.argmax().item()\n",
        "distilbert_stress = [k for k, v in label_map.items() if v == distilbert_pred][0]\n",
        "\n",
        "print(f'Sample Text: {sample_text}')\n",
        "print(f'Cleaned Text: {cleaned_sample}')\n",
        "print(f'Ensemble Predicted Stress Type: {ensemble_stress} (Label: {ensemble_pred})')\n",
        "print(f'DistilBERT Predicted Stress Type: {distilbert_stress} (Label: {distilbert_pred})')"
      ],
      "metadata": {
        "colab": {
          "base_uri": "https://localhost:8080/"
        },
        "id": "bPutTBCpYvg6",
        "outputId": "cac1a45f-767e-4288-bd2c-7a052ec7f161"
      },
      "execution_count": null,
      "outputs": [
        {
          "output_type": "stream",
          "name": "stdout",
          "text": [
            "Sample Text: I’m freaking out about my exams next week.\n",
            "Cleaned Text: im freaking exams next week\n",
            "Ensemble Predicted Stress Type: School Stress (Label: 0)\n",
            "DistilBERT Predicted Stress Type: School Stress (Label: 0)\n"
          ]
        }
      ]
    },
    {
      "cell_type": "code",
      "source": [
        "# Predict sample text\n",
        "sample_text = \"I’m worried about my body i ate too much fast food last night\"\n",
        "cleaned_sample = clean_text(sample_text)\n",
        "sample_tfidf = tfidf.transform([cleaned_sample])\n",
        "\n",
        "# Ensemble prediction\n",
        "ensemble_pred = ensemble_model.predict(sample_tfidf)[0]\n",
        "ensemble_stress = [k for k, v in label_map.items() if v == ensemble_pred][0]\n",
        "\n",
        "# DistilBERT prediction\n",
        "sample_encoding = tokenizer(sample_text, truncation=True, padding='max_length', max_length=128, return_tensors='pt')\n",
        "with torch.no_grad():\n",
        "    outputs = model(**{k: v.to(model.device) for k, v in sample_encoding.items()})\n",
        "    distilbert_pred = outputs.logits.argmax().item()\n",
        "distilbert_stress = [k for k, v in label_map.items() if v == distilbert_pred][0]\n",
        "\n",
        "print(f'Sample Text: {sample_text}')\n",
        "print(f'Cleaned Text: {cleaned_sample}')\n",
        "print(f'Ensemble Predicted Stress Type: {ensemble_stress} (Label: {ensemble_pred})')\n",
        "print(f'DistilBERT Predicted Stress Type: {distilbert_stress} (Label: {distilbert_pred})')"
      ],
      "metadata": {
        "colab": {
          "base_uri": "https://localhost:8080/"
        },
        "id": "FanABNNvYvjY",
        "outputId": "e0c20278-5951-439e-903a-a02e960dd1cb"
      },
      "execution_count": null,
      "outputs": [
        {
          "output_type": "stream",
          "name": "stdout",
          "text": [
            "Sample Text: I’m worried about my body i ate too much fast food last night\n",
            "Cleaned Text: im worried body ate much fast food last night\n",
            "Ensemble Predicted Stress Type: Health Stress (Label: 2)\n",
            "DistilBERT Predicted Stress Type: Health Stress (Label: 2)\n"
          ]
        }
      ]
    },
    {
      "cell_type": "code",
      "source": [
        "# Predict sample text\n",
        "sample_text = \"I’m conserened about my girl friend i cheated on her\"\n",
        "cleaned_sample = clean_text(sample_text)\n",
        "sample_tfidf = tfidf.transform([cleaned_sample])\n",
        "\n",
        "# Ensemble prediction\n",
        "ensemble_pred = ensemble_model.predict(sample_tfidf)[0]\n",
        "ensemble_stress = [k for k, v in label_map.items() if v == ensemble_pred][0]\n",
        "\n",
        "# DistilBERT prediction\n",
        "sample_encoding = tokenizer(sample_text, truncation=True, padding='max_length', max_length=128, return_tensors='pt')\n",
        "with torch.no_grad():\n",
        "    outputs = model(**{k: v.to(model.device) for k, v in sample_encoding.items()})\n",
        "    distilbert_pred = outputs.logits.argmax().item()\n",
        "distilbert_stress = [k for k, v in label_map.items() if v == distilbert_pred][0]\n",
        "\n",
        "print(f'Sample Text: {sample_text}')\n",
        "print(f'Cleaned Text: {cleaned_sample}')\n",
        "print(f'Ensemble Predicted Stress Type: {ensemble_stress} (Label: {ensemble_pred})')\n",
        "print(f'DistilBERT Predicted Stress Type: {distilbert_stress} (Label: {distilbert_pred})')"
      ],
      "metadata": {
        "colab": {
          "base_uri": "https://localhost:8080/"
        },
        "id": "MF9rWLlMYvmA",
        "outputId": "a3793f08-7bd3-48ff-8ee7-7462338e4588"
      },
      "execution_count": null,
      "outputs": [
        {
          "output_type": "stream",
          "name": "stdout",
          "text": [
            "Sample Text: I’m conserened about my girl friend i cheated on her\n",
            "Cleaned Text: im conserened girl friend cheated\n",
            "Ensemble Predicted Stress Type: Relationship Stress (Label: 1)\n",
            "DistilBERT Predicted Stress Type: Relationship Stress (Label: 1)\n"
          ]
        }
      ]
    }
  ]
}